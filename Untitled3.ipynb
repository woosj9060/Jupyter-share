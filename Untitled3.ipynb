{
 "cells": [
  {
   "cell_type": "code",
   "execution_count": 1,
   "id": "ab080b69",
   "metadata": {},
   "outputs": [
    {
     "data": {
      "image/png": "[encoded data removed]",
      "text/plain": [
       "<Figure size 432x288 with 1 Axes>"
      ]
     },
     "metadata": {},
     "output_type": "display_data"
    }
   ],
   "source": [
    "import matplotlib.pyplot as plt\n",
    "#matplotlib 패키지 한글 폰트 설정 시작\n",
    "plt.rc('font', family='Malgun Gothic') #윈도우, 구글 콜랩\n",
    "#plt.rc('font', family='AppleGothic') #맥\n",
    "#matplotlib 패키지 한글 폰트 설정 끝\n",
    "\n",
    "import matplotlib as mpl\n",
    "\n",
    "#파이 차트 옵션 시작\n",
    "mpl.rcParams['font.size'] = 10 #라벨 폰트 사이즈 디폴트값\n",
    "plt.pie([1,2,3,4], labels=['A', 'B', 'C', 'D'], autopct='%.1f%%', shadow=True, startangle=90, explode=[0, 0.1, 0, 0], colors=['red', 'green', 'blue', 'gray']) #explode 0.1 B 는 중앙에서 10% 만큼 나오게\n",
    "#파이 차트 옵션 끝\n",
    "plt.title('파이 차트')\n",
    "plt.show()"
   ]
  },
  {
   "cell_type": "code",
   "execution_count": 2,
   "id": "af0390f6",
   "metadata": {},
   "outputs": [
    {
     "data": {
      "image/png": "[encoded data removed]",
      "text/plain": [
       "<Figure size 432x288 with 1 Axes>"
      ]
     },
     "metadata": {
      "needs_background": "light"
     },
     "output_type": "display_data"
    }
   ],
   "source": [
    "import pandas as pd\n",
    "import matplotlib.pyplot as plt\n",
    "import seaborn as sns\n",
    "\n",
    "##########데이터 로드\n",
    "\n",
    "df = pd.DataFrame([\n",
    "        ['A01', 2, 1, 60, 139, 'country', 0, 'fail'],\n",
    "        ['A02', 3, 2, 80, 148, 'country', 0, 'fail'],\n",
    "        ['A03', 3, 4, 50, 149, 'country', 0, 'fail'],\n",
    "        ['A04', 5, 5, 40, 151, 'country', 0, 'pass'],\n",
    "        ['A05', 7, 5, 35, 154, 'city', 0, 'pass'],\n",
    "        ['A06', 2, 5, 45, 149, 'country', 0, 'fail'],\n",
    "        ['A07',8, 9, 40, 155, 'city', 1, 'pass'],\n",
    "        ['A08', 9, 10, 70, 155, 'city', 3, 'pass'],\n",
    "        ['A13', 90, 100, 71, 154, 'city', 2, 'pass'], #이상값 추가\n",
    "        ['A14', 91, 101, 72, 155, 'city', 3, 'pass'], #이상값 추가\n",
    "        ['A09', 6, 12, 55, 154, 'city', 0, 'pass'],\n",
    "        ['A10', 9, 2, 40, 156, 'city', 1, 'pass'],\n",
    "        ['A11', 6, 10, 60, 153, 'city', 0, 'pass'],\n",
    "        ['A12', 2, 4, 75, 151, 'country', 0, 'fail']\n",
    "    ], columns=['ID', 'hour', 'attendance', 'weight', 'iq', 'region', 'library', 'pass'])\n",
    "\n",
    "##########데이터 분석\n",
    "\n",
    "sns.boxplot(x='region', y='hour', data=df, hue='pass')\n",
    "plt.show()"
   ]
  },
  {
   "cell_type": "code",
   "execution_count": 3,
   "id": "ce54e007",
   "metadata": {},
   "outputs": [
    {
     "data": {
      "image/png": "[encoded data removed]",
      "text/plain": [
       "<Figure size 360x360 with 1 Axes>"
      ]
     },
     "metadata": {
      "needs_background": "light"
     },
     "output_type": "display_data"
    }
   ],
   "source": [
    "import pandas as pd\n",
    "import matplotlib.pyplot as plt\n",
    "import seaborn as sns\n",
    "\n",
    "##########데이터 로드\n",
    "\n",
    "df = pd.DataFrame([\n",
    "        ['A01', 2, 1, 60, 139, 'country', 0, 'fail'],\n",
    "        ['A02', 3, 2, 80, 148, 'country', 0, 'fail'],\n",
    "        ['A03', 3, 4, 50, 149, 'country', 0, 'fail'],\n",
    "        ['A04', 5, 5, 40, 151, 'country', 0, 'pass'],\n",
    "        ['A05', 7, 5, 35, 154, 'city', 0, 'pass'],\n",
    "        ['A06', 2, 5, 45, 149, 'country', 0, 'fail'],\n",
    "        ['A07',8, 9, 40, 155, 'city', 1, 'pass'],\n",
    "        ['A08', 9, 10, 70, 155, 'city', 3, 'pass'],\n",
    "        ['A09', 6, 12, 55, 154, 'city', 0, 'pass'],\n",
    "        ['A10', 9, 2, 40, 156, 'city', 1, 'pass'],\n",
    "        ['A11', 6, 10, 60, 153, 'city', 0, 'pass'],\n",
    "        ['A12', 2, 4, 75, 151, 'country', 0, 'fail']\n",
    "    ], columns=['ID', 'hour', 'attendance', 'weight', 'iq', 'region', 'library', 'pass'])\n",
    "\n",
    "##########데이터 분석\n",
    "\n",
    "sns.catplot(x='region', y='hour', data=df)\n",
    "#sns.catplot(x='region', y='hour', data=df, kind='strip') #디폴트 kind='strip'\n",
    "plt.show()"
   ]
  },
  {
   "cell_type": "code",
   "execution_count": null,
   "id": "d1e846d9",
   "metadata": {},
   "outputs": [],
   "source": [
    "pip install mpld3"
   ]
  },
  {
   "cell_type": "code",
   "execution_count": null,
   "id": "3110ecd9",
   "metadata": {},
   "outputs": [],
   "source": []
  }
 ],
 "metadata": {
  "kernelspec": {
   "display_name": "Python 3",
   "language": "python",
   "name": "python3"
  },
  "language_info": {
   "codemirror_mode": {
    "name": "ipython",
    "version": 3
   },
   "file_extension": ".py",
   "mimetype": "text/x-python",
   "name": "python",
   "nbconvert_exporter": "python",
   "pygments_lexer": "ipython3",
   "version": "3.8.8"
  }
 },
 "nbformat": 4,
 "nbformat_minor": 5
}
