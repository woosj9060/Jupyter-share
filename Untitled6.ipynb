{
 "cells": [
  {
   "cell_type": "code",
   "execution_count": 1,
   "id": "6c69bbd8",
   "metadata": {},
   "outputs": [
    {
     "name": "stdout",
     "output_type": "stream",
     "text": [
      "     ID  hour  attendance  weight   iq   region  library  score\n",
      "0   A01     2           1      60  139  country        0      3\n",
      "1   A02     3           2      80  148  country        0      5\n",
      "2   A03     3           4      50  149  country        0      7\n",
      "3   A04     5           5      40  151  country        0     10\n",
      "4   A05     7           5      35  154     city        0     12\n",
      "5   A06     2           5      45  149  country        0      7\n",
      "6   A07     8           9      40  155     city        1     13\n",
      "7   A08     9          10      70  155     city        3     13\n",
      "8   A09     6          12      55  154     city        0     12\n",
      "9   A10     9           2      40  156     city        1     13\n",
      "10  A11     6          10      60  153     city        0     12\n",
      "11  A12     2           4      75  151  country        0      6\n"
     ]
    },
    {
     "data": {
      "image/png": "[encoded data removed]",
      "text/plain": [
       "<Figure size 432x288 with 1 Axes>"
      ]
     },
     "metadata": {
      "needs_background": "light"
     },
     "output_type": "display_data"
    }
   ],
   "source": [
    "import pandas as pd\n",
    "import matplotlib.pyplot as plt\n",
    "import mpld3\n",
    "\n",
    "##########데이터 로드\n",
    "\n",
    "df = pd.DataFrame([\n",
    "        ['A01', 2, 1, 60, 139, 'country', 0, 3],\n",
    "        ['A02', 3, 2, 80, 148, 'country', 0, 5],\n",
    "        ['A03', 3, 4, 50, 149, 'country', 0, 7],\n",
    "        ['A04', 5, 5, 40, 151, 'country', 0, 10],\n",
    "        ['A05', 7, 5, 35, 154, 'city', 0, 12],\n",
    "        ['A06', 2, 5, 45, 149, 'country', 0, 7],\n",
    "        ['A07',8, 9, 40, 155, 'city', 1, 13],\n",
    "        ['A08', 9, 10, 70, 155, 'city', 3, 13],\n",
    "        ['A09', 6, 12, 55, 154, 'city', 0, 12],\n",
    "        ['A10', 9, 2, 40, 156, 'city', 1, 13],\n",
    "        ['A11', 6, 10, 60, 153, 'city', 0, 12],\n",
    "        ['A12', 2, 4, 75, 151, 'country', 0, 6]\n",
    "    ], columns=['ID', 'hour', 'attendance', 'weight', 'iq', 'region', 'library', 'score'])\n",
    "\n",
    "##########데이터 분석\n",
    "\n",
    "print(df)\n",
    "'''\n",
    "     ID  hour  attendance  weight   iq   region  library  score\n",
    "0   A01     2           1      60  139  country        0      3\n",
    "1   A02     3           2      80  148  country        0      5\n",
    "2   A03     3           4      50  149  country        0      7\n",
    "3   A04     5           5      40  151  country        0     10\n",
    "4   A05     7           5      35  154     city        0     12\n",
    "5   A06     2           5      45  149  country        0      7\n",
    "6   A07     8           9      40  155     city        1     13\n",
    "7   A08     9          10      70  155     city        3     13\n",
    "8   A09     6          12      55  154     city        0     12\n",
    "9   A10     9           2      40  156     city        1     13\n",
    "10  A11     6          10      60  153     city        0     12\n",
    "11  A12     2           4      75  151  country        0      6\n",
    "'''\n",
    "\n",
    "df.plot.bar()\n",
    "#df.plot(kind='bar')\n",
    "plt.show()"
   ]
  },
  {
   "cell_type": "code",
   "execution_count": null,
   "id": "6a6f5f9e",
   "metadata": {},
   "outputs": [
    {
     "name": "stdout",
     "output_type": "stream",
     "text": [
      "     ID  hour  attendance  weight   iq   region  library  score\n",
      "0   A01     2           1      60  139  country        0      3\n",
      "1   A02     3           2      80  148  country        0      5\n",
      "2   A03     3           4      50  149  country        0      7\n",
      "3   A04     5           5      40  151  country        0     10\n",
      "4   A05     7           5      35  154     city        0     12\n",
      "5   A06     2           5      45  149  country        0      7\n",
      "6   A07     8           9      40  155     city        1     13\n",
      "7   A08     9          10      70  155     city        3     13\n",
      "8   A09     6          12      55  154     city        0     12\n",
      "9   A10     9           2      40  156     city        1     13\n",
      "10  A11     6          10      60  153     city        0     12\n",
      "11  A12     2           4      75  151  country        0      6\n",
      "\n",
      "Note: if you're in the IPython notebook, mpld3.show() is not the best command\n",
      "      to use. Consider using mpld3.display(), or mpld3.enable_notebook().\n",
      "      See more information at http://mpld3.github.io/quickstart.html .\n",
      "\n",
      "You must interrupt the kernel to end this command\n",
      "\n",
      "Serving to http://127.0.0.1:8889/    [Ctrl-C to exit]\n"
     ]
    },
    {
     "name": "stderr",
     "output_type": "stream",
     "text": [
      "127.0.0.1 - - [18/Jun/2021 16:35:12] \"GET / HTTP/1.1\" 200 -\n",
      "127.0.0.1 - - [18/Jun/2021 16:35:12] \"GET /d3.js HTTP/1.1\" 200 -\n",
      "127.0.0.1 - - [18/Jun/2021 16:35:12] \"GET /mpld3.js HTTP/1.1\" 200 -\n"
     ]
    }
   ],
   "source": [
    "import pandas as pd\n",
    "import matplotlib.pyplot as plt\n",
    "import mpld3\n",
    "\n",
    "##########데이터 로드\n",
    "\n",
    "df = pd.DataFrame([\n",
    "        ['A01', 2, 1, 60, 139, 'country', 0, 3],\n",
    "        ['A02', 3, 2, 80, 148, 'country', 0, 5],\n",
    "        ['A03', 3, 4, 50, 149, 'country', 0, 7],\n",
    "        ['A04', 5, 5, 40, 151, 'country', 0, 10],\n",
    "        ['A05', 7, 5, 35, 154, 'city', 0, 12],\n",
    "        ['A06', 2, 5, 45, 149, 'country', 0, 7],\n",
    "        ['A07',8, 9, 40, 155, 'city', 1, 13],\n",
    "        ['A08', 9, 10, 70, 155, 'city', 3, 13],\n",
    "        ['A09', 6, 12, 55, 154, 'city', 0, 12],\n",
    "        ['A10', 9, 2, 40, 156, 'city', 1, 13],\n",
    "        ['A11', 6, 10, 60, 153, 'city', 0, 12],\n",
    "        ['A12', 2, 4, 75, 151, 'country', 0, 6]\n",
    "    ], columns=['ID', 'hour', 'attendance', 'weight', 'iq', 'region', 'library', 'score'])\n",
    "\n",
    "##########데이터 분석\n",
    "\n",
    "print(df)\n",
    "'''\n",
    "     ID  hour  attendance  weight   iq   region  library  score\n",
    "0   A01     2           1      60  139  country        0      3\n",
    "1   A02     3           2      80  148  country        0      5\n",
    "2   A03     3           4      50  149  country        0      7\n",
    "3   A04     5           5      40  151  country        0     10\n",
    "4   A05     7           5      35  154     city        0     12\n",
    "5   A06     2           5      45  149  country        0      7\n",
    "6   A07     8           9      40  155     city        1     13\n",
    "7   A08     9          10      70  155     city        3     13\n",
    "8   A09     6          12      55  154     city        0     12\n",
    "9   A10     9           2      40  156     city        1     13\n",
    "10  A11     6          10      60  153     city        0     12\n",
    "11  A12     2           4      75  151  country        0      6\n",
    "'''\n",
    "\n",
    "df.plot.bar()\n",
    "#df.plot(kind='bar')\n",
    "mpld3.show()"
   ]
  },
  {
   "cell_type": "code",
   "execution_count": null,
   "id": "5692741e",
   "metadata": {},
   "outputs": [],
   "source": []
  }
 ],
 "metadata": {
  "kernelspec": {
   "display_name": "Python 3",
   "language": "python",
   "name": "python3"
  },
  "language_info": {
   "codemirror_mode": {
    "name": "ipython",
    "version": 3
   },
   "file_extension": ".py",
   "mimetype": "text/x-python",
   "name": "python",
   "nbconvert_exporter": "python",
   "pygments_lexer": "ipython3",
   "version": "3.8.8"
  }
 },
 "nbformat": 4,
 "nbformat_minor": 5
}
